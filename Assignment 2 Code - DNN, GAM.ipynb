{
 "cells": [
  {
   "cell_type": "markdown",
   "id": "9e60fec1",
   "metadata": {},
   "source": [
    "# Spam Classification"
   ]
  },
  {
   "cell_type": "code",
   "execution_count": null,
   "id": "af2c93d9",
   "metadata": {
    "scrolled": true
   },
   "outputs": [],
   "source": [
    "import matplotlib.pyplot as plt\n",
    "import numpy as np\n",
    "import pandas as pd\n",
    "import tensorflow as tf\n",
    "from tensorflow import keras\n",
    "from tensorflow.keras import layers\n",
    "from sklearn.model_selection import train_test_split\n",
    "from sklearn.metrics import confusion_matrix\n",
    "from sklearn.metrics import accuracy_score\n",
    "from pygam import LogisticGAM, s, f\n",
    "from ast import literal_eval"
   ]
  },
  {
   "cell_type": "code",
   "execution_count": null,
   "id": "8cdf3844",
   "metadata": {},
   "outputs": [],
   "source": [
    "import random"
   ]
  },
  {
   "cell_type": "code",
   "execution_count": null,
   "id": "f5b7039c",
   "metadata": {},
   "outputs": [],
   "source": [
    "#Importing the dataset\n",
    "url = 'http://archive.ics.uci.edu/ml/machine-learning-databases/spambase/spambase.data'\n",
    "column_names = [\"word_freq_make\", \"word_freq_address\", \"word_freq_all\", \"word_freq_3d\", \n",
    "                \"word_freq_our\", \"word_freq_over\", \"word_freq_remove\", \"word_freq_internet\", \n",
    "                \"word_freq_order\", \"word_freq_mail\", \"word_freq_receive\", \"word_freq_will\", \n",
    "                \"word_freq_people\", \"word_freq_report\", \"word_freq_addresses\", \"word_freq_free\", \n",
    "                \"word_freq_business\", \"word_freq_email\", \"word_freq_you\", \"word_freq_credit\", \n",
    "                \"word_freq_your\", \"word_freq_font\", \"word_freq_000\", \"word_freq_money\", \"word_freq_hp\", \n",
    "                \"word_freq_hpl\", \"word_freq_george\", \"word_freq_650\", \"word_freq_lab\", \"word_freq_labs\", \n",
    "                \"word_freq_telnet\", \"word_freq_857\", \"word_freq_data\", \"word_freq_415\", \"word_freq_85\", \n",
    "                \"word_freq_technology\", \"word_freq_1999\", \"word_freq_parts\", \"word_freq_pm\", \"word_freq_direct\", \n",
    "                \"word_freq_cs\", \"word_freq_meeting\", \"word_freq_original\", \"word_freq_project\", \"word_freq_re\", \n",
    "                \"word_freq_edu\", \"word_freq_table\", \"word_freq_conference\", \"char_freq_;\", \n",
    "                \"char_freq_(\", \"char_freq_[\", \"char_freq_!\", \"char_freq_$\", \"char_freq_#\", \n",
    "                \"capital_run_length_average\", \"capital_run_length_longest\", \"capital_run_length_total\", \"Spam\"]\n",
    "\n",
    "data = pd.read_csv(url, names=column_names, sep=',',skipinitialspace=True)"
   ]
  },
  {
   "cell_type": "code",
   "execution_count": null,
   "id": "7be85ada",
   "metadata": {
    "scrolled": true
   },
   "outputs": [],
   "source": [
    "#Check for missing values\n",
    "data.isna().sum()"
   ]
  },
  {
   "cell_type": "code",
   "execution_count": null,
   "id": "8db255ea",
   "metadata": {},
   "outputs": [],
   "source": [
    "#Split into training and testing data\n",
    "training_data, testing_data = train_test_split(data, test_size = 0.2, random_state = 5)"
   ]
  },
  {
   "cell_type": "code",
   "execution_count": null,
   "id": "f01f9bc2",
   "metadata": {},
   "outputs": [],
   "source": [
    "training_features = training_data.copy()\n",
    "training_classes = training_features.pop('Spam')\n",
    "testing_features = testing_data.copy()\n",
    "testing_classes = testing_features.pop('Spam')"
   ]
  },
  {
   "cell_type": "code",
   "execution_count": null,
   "id": "bf5a7c90",
   "metadata": {
    "scrolled": true
   },
   "outputs": [],
   "source": [
    "data.describe().transpose()"
   ]
  },
  {
   "cell_type": "markdown",
   "id": "3d811e7a",
   "metadata": {},
   "source": [
    "# Deep neural network"
   ]
  },
  {
   "cell_type": "code",
   "execution_count": null,
   "id": "76b55105",
   "metadata": {},
   "outputs": [],
   "source": [
    "#58 input variables so 58 input neurons?\n",
    "#1 output for the set of inputs so 1 output neuron\n",
    "#hidden layers?\n",
    "\n",
    "#specify optimiser such as nesterov momentum?\n",
    "\n",
    "dnn_spam_model = tf.keras.Sequential([\n",
    "    tf.keras.Input(shape = (57)),\n",
    "    layers.Dense(36, activation='relu'),\n",
    "    layers.Dense(32, activation='relu'),\n",
    "    layers.Dense(1, activation = 'sigmoid')\n",
    "])\n",
    "#sigmoid outputs between 0 and 1 which is perfect for probabilities\n",
    "\n",
    "dnn_spam_model.summary()\n"
   ]
  },
  {
   "cell_type": "code",
   "execution_count": null,
   "id": "aec3281d",
   "metadata": {},
   "outputs": [],
   "source": [
    "#adam optimiser for advanced gradient descent, loss is binary cross entropy since binary classification\n",
    "#problem\n",
    "random.seed(5)\n",
    "dnn_spam_model.compile(optimizer=tf.keras.optimizers.Adam(learning_rate=0.01),\n",
    "                  loss = tf.keras.losses.BinaryCrossentropy(),\n",
    "                  metrics = [tf.keras.metrics.BinaryAccuracy(name = 'acc')])"
   ]
  },
  {
   "cell_type": "code",
   "execution_count": null,
   "id": "2bf73501",
   "metadata": {
    "scrolled": true
   },
   "outputs": [],
   "source": [
    "#fit model with 100 epochs\n",
    "dnn_fit = dnn_spam_model.fit(x= training_features, \n",
    "               y= training_classes, \n",
    "               epochs = 100, \n",
    "               validation_split = 0.2,\n",
    "               class_weight = {0:10, 1:1}\n",
    "                )\n",
    "#maybe write code to generate the best number of epochs and learning rate?"
   ]
  },
  {
   "cell_type": "code",
   "execution_count": null,
   "id": "00d44f4b",
   "metadata": {
    "scrolled": true
   },
   "outputs": [],
   "source": [
    "#Check the training progress/error by epoch, store in dataframe\n",
    "history = pd.DataFrame(dnn_fit.history)\n",
    "history['epoch'] = dnn_fit.epoch\n",
    "history"
   ]
  },
  {
   "cell_type": "code",
   "execution_count": null,
   "id": "c19b1c13",
   "metadata": {},
   "outputs": [],
   "source": []
  },
  {
   "cell_type": "code",
   "execution_count": null,
   "id": "1821e2d4",
   "metadata": {
    "scrolled": true
   },
   "outputs": [],
   "source": [
    "plt.plot(\n",
    "    np.arange(1, 91), \n",
    "    dnn_fit.history['acc'], \n",
    "    label='Accuracy'\n",
    ")\n",
    "\n",
    "plt.xlabel(\"Epoch\")\n",
    "plt.ylabel(\"Accuracy\")\n",
    "plt.show()"
   ]
  },
  {
   "cell_type": "code",
   "execution_count": null,
   "id": "af277072",
   "metadata": {},
   "outputs": [],
   "source": [
    "#Moving onto predicting\n",
    "dnn_test_pred = dnn_spam_model.predict(testing_features)\n",
    "dnn_pred_classes = [\n",
    "    1 if prob > 0.9993 else 0 for prob in np.ravel(dnn_test_pred)\n",
    "]\n",
    "print(confusion_matrix(testing_classes, dnn_pred_classes))\n",
    "\n",
    "print(f'Accuracy: {accuracy_score(testing_classes, dnn_pred_classes)}')\n"
   ]
  },
  {
   "cell_type": "code",
   "execution_count": null,
   "id": "e095076d",
   "metadata": {},
   "outputs": [],
   "source": []
  },
  {
   "cell_type": "markdown",
   "id": "0dbb52d2",
   "metadata": {},
   "source": [
    "# Classification GAM"
   ]
  },
  {
   "cell_type": "code",
   "execution_count": null,
   "id": "2ff20b20",
   "metadata": {},
   "outputs": [],
   "source": [
    "classifier = LogisticGAM()\n",
    "classifier.fit(training_features, training_classes)"
   ]
  },
  {
   "cell_type": "code",
   "execution_count": null,
   "id": "05371434",
   "metadata": {},
   "outputs": [],
   "source": [
    "gam_pred_classes = classifier.predict(testing_features)\n",
    "gam_pred_classes = pred_classes * 1"
   ]
  },
  {
   "cell_type": "code",
   "execution_count": null,
   "id": "6e9beda9",
   "metadata": {},
   "outputs": [],
   "source": [
    "classifier.summary()"
   ]
  },
  {
   "cell_type": "code",
   "execution_count": null,
   "id": "54837215",
   "metadata": {},
   "outputs": [],
   "source": [
    "print(confusion_matrix(testing_classes, gam_pred_classes))\n"
   ]
  }
 ],
 "metadata": {
  "kernelspec": {
   "display_name": "Python 3 (ipykernel)",
   "language": "python",
   "name": "python3"
  },
  "language_info": {
   "codemirror_mode": {
    "name": "ipython",
    "version": 3
   },
   "file_extension": ".py",
   "mimetype": "text/x-python",
   "name": "python",
   "nbconvert_exporter": "python",
   "pygments_lexer": "ipython3",
   "version": "3.9.13"
  }
 },
 "nbformat": 4,
 "nbformat_minor": 5
}
